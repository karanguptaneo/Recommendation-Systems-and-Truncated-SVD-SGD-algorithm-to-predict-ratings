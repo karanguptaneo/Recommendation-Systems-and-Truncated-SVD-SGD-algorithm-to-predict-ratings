{
 "cells": [
  {
   "cell_type": "markdown",
   "metadata": {
    "colab_type": "text",
    "id": "LkXTlOM142FH"
   },
   "source": [
    "# SGD Algorithm to predict movie ratings"
   ]
  },
  {
   "cell_type": "markdown",
   "metadata": {
    "colab_type": "text",
    "id": "5pveXiAD42FJ"
   },
   "source": [
    "<pre>\n",
    "1. Download the data from <a href='https://drive.google.com/open?id=1-1z7iDB52cB6_JpO7Dqa-eOYSs-mivpq'> here </a>\n",
    "2. the data will be of this formate, each data point is represented as a triplet of user_id, movie_id and rating \n",
    "<table>\n",
    "<tr><th>user_id</th><th>movie_id</th><th>rating</th></tr>\n",
    "<tr><td>77</td><td>236</td><td>3</td></tr>\n",
    "<tr><td>471</td><td>208</td><td>5</td></tr>\n",
    "<tr><td>641</td><td>401</td><td>4</td></tr>\n",
    "<tr><td>31</td><td>298</td><td>4</td></tr>\n",
    "<tr><td>58</td><td>504</td><td>5</td></tr>\n",
    "<tr><td>235</td><td>727</td><td>5</td></tr>\n",
    "</table>\n",
    "<h3>task 1: Predict the rating for a given (user_id, movie_id) pair</h3>\n",
    "</pre>\n",
    "<ul>\n",
    "<li><span class=\"math\">\\(\\mu\\)</span> : scalar mean rating</li>\n",
    "<li><span class=\"math\">\\(b_i\\)</span> : scalar bias term for user <span class=\"math\">\\(i\\)</span></li>\n",
    "<li><span class=\"math\">\\(c_j\\)</span> : scalar bias term for movie <span class=\"math\">\\(j\\)</span></li>\n",
    "<li><span class=\"math\">\\(u_i\\)</span> : K-dimensional vector for user <span class=\"math\">\\(i\\)</span></li>\n",
    "<li><span class=\"math\">\\(v_j\\)</span> : K-dimensional vector for movie <span class=\"math\">\\(j\\)</span></li>\n",
    "</ul>\n",
    "then the predicted rating $\\hat{y}_{ij}$ for user i, movied j pair is calcuated as $\\hat{y}_{ij} = \\mu + b_i + c_j + u_i^T v_j$ here we will be finding the best values of $b_{i}$ and $c_{j}$ using SGD algorithm with the optimization problem for N users and M movies is defined as\n",
    "\n",
    "\n",
    "$$\n",
    "L = \\min_{ b, c, \\{ u_i \\}_{i=1}^N, \\{ v_j \\}_{j=1}^M}\n",
    "\\quad\n",
    "\\alpha \\Big(\n",
    "    \\sum_{j} \\sum_{k} v_{jk}^2 \n",
    "    + \\sum_{i} \\sum_{k} u_{ik}^2 \n",
    "    + \\sum_{i} b_i^2\n",
    "    + \\sum_{j} c_i^2\n",
    "    \\Big)\n",
    "+ \\sum_{i,j \\in \\mathcal{I}^{\\text{train}}}\n",
    "    (y_{ij} - \\mu - b_i - c_j - u_i^T v_j)^2\n",
    "$$\n",
    "\n",
    "### TASK: 1\n",
    "__SGD Algorithm to minimize the loss__\n",
    "1. for each unique user initilize a bias value $B_{i}$ randomly, so if we have $N$ users $B$ will be a $N$ dimensional vector, the $i^{th}$ value of the $B$ will corresponds to the bias term for $i^{th}$ user\n",
    "\n",
    "2. for each unique movie initilize a bias value $C_{j}$ randomly, so if we have $M$ movies $C$ will be a $M$ dimensional vector, the $j^{th}$ value of the $C$ will corresponds to the bias term for $j^{th}$ movie\n",
    "\n",
    "3. Construct adjacency matrix with the given data, assumeing its  <a href='https://en.wikipedia.org/wiki/Bipartite_graph'> weighted un-directed bi-partited graph</a> and the weight of each edge is the rating given by user to the movie\n",
    "<img src='https://i.imgur.com/rmUCGMb.jpg' width=200>\n",
    "you can construct this matrix like $A[i][j]=r_{ij}$ here $i$ is user_id, $j$ is movie_id and $r_{ij}$ is rating given by user $i$ to the movie $j$\n",
    "\n",
    "4. we will Apply SVD decomposition on the Adjaceny matrix <a href='https://stackoverflow.com/a/31528944/4084039'>link1</a>, <a href='https://machinelearningmastery.com/singular-value-decomposition-for-machine-learning/'> link2</a> and get three matrices $U, \\sum, V$ such that $U \\times \\sum \\times V^T = A$, <br> \n",
    "if $A$ is of dimensions $N \\times M$ then <br>\n",
    "U is of $N \\times k$, <br>\n",
    "$\\sum$ is of $k \\times k$ and <br>\n",
    "$V$ is $M \\times k$ dimensions. <br>\n",
    "\n",
    "5. So the matrix $U$ can be represented as matrix representation of users, where each row $u_{i}$ represents a k-dimensional vector for a user\n",
    "\n",
    "6. So the matrix $V$ can be represented as matrix representation of movies, where each row $v_{j}$ represents a k-dimensional vector for a movie\n",
    "\n",
    "7. $\\mu$ represents the mean of all the rating given in the dataset\n",
    "</pre>\n",
    "\n",
    "<br>8.\n",
    "<pre>\n",
    "for each epoch:\n",
    "    for each pair of (user, movie):\n",
    "        b_i =  b_i - learning_rate * dL/db_i\n",
    "        c_j =  c_j - learning_rate * dL/dc_j\n",
    "    predict the ratings with formula</pre>$\\hat{y}_{ij} = \\mu + b_i + c_j + \\text{dot_product}(u_i , v_j) $\n",
    " <pre>\n",
    "    print the mean squared error with predicted ratings\n",
    "    </pre>\n",
    "\n",
    "9. you can choose any learning rate and regularization term in the range $10^{-3}  \\text{ to } 10^2$  <br>\n",
    "\n",
    "10. __bonus__: instead of using SVD decomposition you can learn the vectors $u_i$, $v_j$ with the help of SGD algo similar to $b_i$ and $c_j$ \n",
    "### TASK: 2\n",
    "\n",
    "As we know U is the learned matrix of user vectors, with its i-th row as the vector ui for user i. Each row of U can be seen as a \"feature vector\" for a particular user.\n",
    "\n",
    "The question we'd like to investigate is this: do our computed per-user features that are optimized for predicting movie ratings contain anything to do with gender?\n",
    "\n",
    "The provided data file <a href='https://drive.google.com/open?id=1PHFdJh_4gIPiLH5Q4UErH8GK71hTrzlY'>user_info.csv</a> contains an is_male column indicating which users in the dataset are male. Can you predict this signal given the features U?\n",
    "\n",
    "\n",
    "> __Note 1__ : there is no train test split in the data, the goal of this assignment is to give an intution about how to do matrix factorization with the help of SGD and application of truncated SVD. for better understanding of the collabarative fillerting please check netflix case study. <br><br>\n",
    "> __Note 2__ : Check if scaling of $U$, $V$ matrices improve the metric "
   ]
  },
  {
   "cell_type": "code",
   "execution_count": 1,
   "metadata": {
    "colab": {},
    "colab_type": "code",
    "id": "1GB_NZT542FL",
    "outputId": "c33c2d4a-7af2-4c2c-9249-b0167a086a50"
   },
   "outputs": [
    {
     "data": {
      "text/plain": [
       "(89992, 3)"
      ]
     },
     "execution_count": 1,
     "metadata": {},
     "output_type": "execute_result"
    }
   ],
   "source": [
    "import pandas as pd\n",
    "data = pd.read_csv('ratings_train.csv')\n",
    "data.shape"
   ]
  },
  {
   "cell_type": "code",
   "execution_count": 2,
   "metadata": {
    "colab": {},
    "colab_type": "code",
    "id": "t_lHKVD342FP",
    "outputId": "2d8b1b67-4692-4deb-99be-e65f821a017b"
   },
   "outputs": [
    {
     "name": "stdout",
     "output_type": "stream",
     "text": [
      "(943, 50)\n",
      "(50,)\n",
      "(1681, 50)\n"
     ]
    }
   ],
   "source": [
    "from sklearn.utils.extmath import randomized_svd\n",
    "import numpy as np \n",
    "matrix = np.zeros([943 , 1681])\n",
    "for i in range(len(data)):\n",
    "    user , movie , rating = data.iloc[i , :]\n",
    "    matrix[user][movie] = rating\n",
    "    \n",
    "U, Sigma, VT = randomized_svd(matrix, n_components=50,n_iter=10, random_state=None)\n",
    "print(U.shape)\n",
    "print(Sigma.shape)\n",
    "print(VT.T.shape)"
   ]
  },
  {
   "cell_type": "code",
   "execution_count": 3,
   "metadata": {
    "scrolled": false
   },
   "outputs": [],
   "source": [
    "b = np.random.uniform(0,1,943)\n",
    "c = np.random.uniform(0,1,1681)\n",
    "mu = sum(data.iloc[:,2])/len(data)\n",
    "def sq_sum(var):\n",
    "    for i in var:\n",
    "        s = 0\n",
    "        s += i**2\n",
    "    return s"
   ]
  },
  {
   "cell_type": "code",
   "execution_count": 4,
   "metadata": {},
   "outputs": [
    {
     "name": "stdout",
     "output_type": "stream",
     "text": [
      "MSE At Epoch 0  is  3.1647122512568555\n",
      "MSE At Epoch 1  is  2.36535933800418\n",
      "MSE At Epoch 2  is  1.9302191127035169\n",
      "MSE At Epoch 3  is  1.6620383409868134\n",
      "MSE At Epoch 4  is  1.4825817857113133\n",
      "MSE At Epoch 5  is  1.3553901322634123\n",
      "MSE At Epoch 6  is  1.261369107410276\n",
      "MSE At Epoch 7  is  1.18961602914425\n",
      "MSE At Epoch 8  is  1.1334781753457828\n",
      "MSE At Epoch 9  is  1.0886769002249839\n",
      "MSE At Epoch 10  is  1.052340683321186\n",
      "MSE At Epoch 11  is  1.0224735591285017\n",
      "MSE At Epoch 12  is  0.9976469073850751\n",
      "MSE At Epoch 13  is  0.9768125546938212\n",
      "MSE At Epoch 14  is  0.9591850228743635\n",
      "MSE At Epoch 15  is  0.9441648588499636\n",
      "MSE At Epoch 16  is  0.9312872647673045\n",
      "MSE At Epoch 17  is  0.9201868062224883\n",
      "MSE At Epoch 18  is  0.9105726243188988\n",
      "MSE At Epoch 19  is  0.9022106801348434\n",
      "MSE At Epoch 20  is  0.8949108115835039\n",
      "MSE At Epoch 21  is  0.8885171487825367\n",
      "MSE At Epoch 22  is  0.8829009151806523\n",
      "MSE At Epoch 23  is  0.8779549508529355\n",
      "MSE At Epoch 24  is  0.8735894972229618\n",
      "MSE At Epoch 25  is  0.8697289181107744\n",
      "MSE At Epoch 26  is  0.8663091243034857\n",
      "MSE At Epoch 27  is  0.8632755326609673\n",
      "MSE At Epoch 28  is  0.8605814355493134\n",
      "MSE At Epoch 29  is  0.8581866882507159\n"
     ]
    }
   ],
   "source": [
    "epochs = []\n",
    "losses = []\n",
    "from sklearn.metrics import log_loss\n",
    "for i in range(30): # number of epochs\n",
    "    for j in range(len(data)):\n",
    "        user , movie , y = data.iloc[j,:]\n",
    "        ui = U[user]\n",
    "        vj = VT.T[movie]\n",
    "        bi = b[user]\n",
    "        cj = c[movie]\n",
    "        loss = 0.001*( 00.1*2*sum(b) -2*(y - mu - b[user] -c[movie] - np.matmul(ui , vj)) )\n",
    "        bi = bi - loss\n",
    "        \n",
    "        loss = 0.001*( 00.1*2*sum(c)  -2*(y - mu - b[user] -c[movie] - np.matmul(ui , vj)) )\n",
    "        cj = cj - loss\n",
    "        b[user] = bi\n",
    "        c[movie] = cj\n",
    "    \n",
    "    mse = 0\n",
    "    for j in range(len(data)):\n",
    "        user , movie , y = data.iloc[j , :]\n",
    "        ui = U[user]\n",
    "        vj = VT.T[movie]\n",
    "        y_pred = np.matmul(ui,vj.T) + mu + b[user] + c[movie]\n",
    "        mse += (y - y_pred)**2\n",
    "    mse/=len(data)\n",
    "    print(\"MSE At Epoch\" , i ,\" is \" ,  mse)\n",
    "    epochs.append(i)\n",
    "    losses.append(mse)"
   ]
  },
  {
   "cell_type": "code",
   "execution_count": 6,
   "metadata": {},
   "outputs": [
    {
     "data": {
      "image/png": "[encoded data removed]",
      "text/plain": [
       "<Figure size 432x288 with 1 Axes>"
      ]
     },
     "metadata": {
      "needs_background": "light"
     },
     "output_type": "display_data"
    }
   ],
   "source": [
    "import matplotlib.pyplot as plt\n",
    "plt.plot(epochs , losses)\n",
    "plt.xlabel('epoch')\n",
    "plt.ylabel('mse')\n",
    "plt.title('epoch vs loss')\n",
    "plt.show()\n"
   ]
  },
  {
   "cell_type": "code",
   "execution_count": 7,
   "metadata": {},
   "outputs": [
    {
     "name": "stdout",
     "output_type": "stream",
     "text": [
      "MSE: 0.8581866882507159\n"
     ]
    }
   ],
   "source": [
    "mse = 0\n",
    "for i in range(len(data)):\n",
    "    user , movie , y = data.iloc[i , :]\n",
    "    ui = U[user]\n",
    "    vj = VT.T[movie]\n",
    "    y_pred = np.matmul(ui,vj.T) + mu + b[user] + c[movie]\n",
    "    \n",
    "    mse += (y - y_pred)**2\n",
    "mse/=len(data)\n",
    "print(\"MSE:\" , mse)"
   ]
  },
  {
   "cell_type": "markdown",
   "metadata": {},
   "source": [
    "### Task 2"
   ]
  },
  {
   "cell_type": "code",
   "execution_count": 8,
   "metadata": {},
   "outputs": [],
   "source": [
    "info_age_list = pd.read_csv('user_info.csv').iloc[:,2]"
   ]
  },
  {
   "cell_type": "code",
   "execution_count": 26,
   "metadata": {},
   "outputs": [],
   "source": [
    "from sklearn.linear_model import LogisticRegression\n",
    "from sklearn.metrics import confusion_matrix\n",
    "model = LogisticRegression(C=10**3)\n",
    "model.fit(U , info_age_list)\n",
    "y_pred = model.predict(U)       "
   ]
  },
  {
   "cell_type": "code",
   "execution_count": 27,
   "metadata": {},
   "outputs": [
    {
     "name": "stdout",
     "output_type": "stream",
     "text": [
      "Confusion Matrix\n",
      "  [[111 162]\n",
      " [ 47 623]]\n"
     ]
    }
   ],
   "source": [
    "print(\"Confusion Matrix\\n \" , confusion_matrix(info_age_list , y_pred)) # confusion matrix"
   ]
  },
  {
   "cell_type": "code",
   "execution_count": 28,
   "metadata": {},
   "outputs": [
    {
     "name": "stdout",
     "output_type": "stream",
     "text": [
      "0.4466428941961595\n"
     ]
    }
   ],
   "source": [
    "from sklearn.metrics import log_loss\n",
    "model.predict_proba(U)\n",
    "print(log_loss(info_age_list,model.predict_proba(U))) # log loss"
   ]
  },
  {
   "cell_type": "code",
   "execution_count": 12,
   "metadata": {},
   "outputs": [],
   "source": [
    "### generated user features are pretty much useful in interpretting some information such as gender."
   ]
  },
  {
   "cell_type": "code",
   "execution_count": null,
   "metadata": {},
   "outputs": [],
   "source": []
  }
 ],
 "metadata": {
  "colab": {
   "name": "RecommendationSystem_TruncatedSVD Assignment Instructions.ipynb",
   "provenance": []
  },
  "kernelspec": {
   "display_name": "Python 3",
   "language": "python",
   "name": "python3"
  },
  "language_info": {
   "codemirror_mode": {
    "name": "ipython",
    "version": 3
   },
   "file_extension": ".py",
   "mimetype": "text/x-python",
   "name": "python",
   "nbconvert_exporter": "python",
   "pygments_lexer": "ipython3",
   "version": "3.7.0"
  }
 },
 "nbformat": 4,
 "nbformat_minor": 1
}
